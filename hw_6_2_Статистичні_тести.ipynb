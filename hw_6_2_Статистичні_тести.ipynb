{
 "cells": [
  {
   "cell_type": "markdown",
   "id": "e152f6d6",
   "metadata": {
    "ExecuteTime": {
     "end_time": "2022-12-10T14:29:24.703416Z",
     "start_time": "2022-12-10T14:29:24.688485Z"
    },
    "id": "e152f6d6"
   },
   "source": [
    "## Домашнє завдання 6: Статистичні тести"
   ]
  },
  {
   "cell_type": "markdown",
   "id": "cd404683",
   "metadata": {
    "id": "cd404683"
   },
   "source": [
    "0. Зчитайте дані з `data.csv` та запишіть значення колонки data у форматі np.ndarray в змінну data. Ми будемо далі працювати з цією змінною."
   ]
  },
  {
   "cell_type": "code",
   "execution_count": 1,
   "id": "a8M1Xqa3hInl",
   "metadata": {
    "id": "a8M1Xqa3hInl"
   },
   "outputs": [],
   "source": [
    "import pandas as pd\n",
    "import numpy as np\n",
    "\n",
    "df = pd.read_csv('/Users/yuliias/Documents/Data analysis/Course/Home Works/data_statistics/data.csv')"
   ]
  },
  {
   "cell_type": "code",
   "execution_count": 2,
   "id": "442535fd-d5ca-4fec-9557-2b00027464de",
   "metadata": {},
   "outputs": [
    {
     "data": {
      "text/plain": [
       "numpy.ndarray"
      ]
     },
     "execution_count": 2,
     "metadata": {},
     "output_type": "execute_result"
    }
   ],
   "source": [
    "data = df['data'].values\n",
    "type(data)"
   ]
  },
  {
   "cell_type": "markdown",
   "id": "3d06cbbf",
   "metadata": {
    "id": "3d06cbbf"
   },
   "source": [
    "Запустіть код нижче. Для коректної робити всіх подальших методів дані мають бути у вигляді одновимірного вектора, тобто мати розмір (100,)."
   ]
  },
  {
   "cell_type": "code",
   "execution_count": 3,
   "id": "Rc_cM9TfhJYI",
   "metadata": {
    "id": "Rc_cM9TfhJYI"
   },
   "outputs": [
    {
     "data": {
      "text/plain": [
       "(100,)"
      ]
     },
     "execution_count": 3,
     "metadata": {},
     "output_type": "execute_result"
    }
   ],
   "source": [
    "data.shape"
   ]
  },
  {
   "cell_type": "markdown",
   "id": "abdcef5d",
   "metadata": {
    "id": "abdcef5d"
   },
   "source": [
    "1. Зчитані дані - це сума покупок в доларах наших покупців на сайті протягом липня 2022 року.\n",
    "\n",
    "До цього місяця, ми мали продажі в середньому на чек $20. Чи вийшло у нас статистично значущо **підвищити** середній чек за останній місяць?\n",
    "\n",
    "Оберіть статистичний тест (z-test чи t-test). Виведіть p-значення статистичного тесту та зробіть висновок, чи ми маємо зараз статистично значущу різницю у розмірі середнього чеку.\n",
    "\n",
    "**Підказка**: тут тест буде одновибірковий."
   ]
  },
  {
   "cell_type": "code",
   "execution_count": 29,
   "id": "891a4b5d-86e3-4a23-b5c1-a1fb856b5d35",
   "metadata": {
    "collapsed": true,
    "jupyter": {
     "outputs_hidden": true
    },
    "scrolled": true
   },
   "outputs": [
    {
     "name": "stdout",
     "output_type": "stream",
     "text": [
      "Requirement already satisfied: statsmodels in /Library/Frameworks/Python.framework/Versions/3.13/lib/python3.13/site-packages (0.14.4)\n",
      "Requirement already satisfied: numpy<3,>=1.22.3 in /Library/Frameworks/Python.framework/Versions/3.13/lib/python3.13/site-packages (from statsmodels) (2.2.3)\n",
      "Requirement already satisfied: scipy!=1.9.2,>=1.8 in /Library/Frameworks/Python.framework/Versions/3.13/lib/python3.13/site-packages (from statsmodels) (1.15.2)\n",
      "Requirement already satisfied: pandas!=2.1.0,>=1.4 in /Library/Frameworks/Python.framework/Versions/3.13/lib/python3.13/site-packages (from statsmodels) (2.2.3)\n",
      "Requirement already satisfied: patsy>=0.5.6 in /Library/Frameworks/Python.framework/Versions/3.13/lib/python3.13/site-packages (from statsmodels) (1.0.1)\n",
      "Requirement already satisfied: packaging>=21.3 in /Library/Frameworks/Python.framework/Versions/3.13/lib/python3.13/site-packages (from statsmodels) (24.2)\n",
      "Requirement already satisfied: python-dateutil>=2.8.2 in /Library/Frameworks/Python.framework/Versions/3.13/lib/python3.13/site-packages (from pandas!=2.1.0,>=1.4->statsmodels) (2.9.0.post0)\n",
      "Requirement already satisfied: pytz>=2020.1 in /Library/Frameworks/Python.framework/Versions/3.13/lib/python3.13/site-packages (from pandas!=2.1.0,>=1.4->statsmodels) (2025.1)\n",
      "Requirement already satisfied: tzdata>=2022.7 in /Library/Frameworks/Python.framework/Versions/3.13/lib/python3.13/site-packages (from pandas!=2.1.0,>=1.4->statsmodels) (2025.1)\n",
      "Requirement already satisfied: six>=1.5 in /Library/Frameworks/Python.framework/Versions/3.13/lib/python3.13/site-packages (from python-dateutil>=2.8.2->pandas!=2.1.0,>=1.4->statsmodels) (1.17.0)\n",
      "\n",
      "\u001b[1m[\u001b[0m\u001b[34;49mnotice\u001b[0m\u001b[1;39;49m]\u001b[0m\u001b[39;49m A new release of pip is available: \u001b[0m\u001b[31;49m24.3.1\u001b[0m\u001b[39;49m -> \u001b[0m\u001b[32;49m25.0.1\u001b[0m\n",
      "\u001b[1m[\u001b[0m\u001b[34;49mnotice\u001b[0m\u001b[1;39;49m]\u001b[0m\u001b[39;49m To update, run: \u001b[0m\u001b[32;49mpip3 install --upgrade pip\u001b[0m\n"
     ]
    }
   ],
   "source": [
    "!pip3 install statsmodels"
   ]
  },
  {
   "cell_type": "code",
   "execution_count": 4,
   "id": "XhxcSbYqhLz9",
   "metadata": {
    "id": "XhxcSbYqhLz9"
   },
   "outputs": [],
   "source": [
    "from statsmodels.stats.weightstats import ztest"
   ]
  },
  {
   "cell_type": "code",
   "execution_count": 5,
   "id": "5adefa5c-08c3-4c9b-b683-e583519eef17",
   "metadata": {},
   "outputs": [],
   "source": [
    "null_mean = 20\n",
    "alpha = 0.05"
   ]
  },
  {
   "cell_type": "code",
   "execution_count": 6,
   "id": "74079c52-ed0e-448e-8c7a-3448773e58e4",
   "metadata": {},
   "outputs": [
    {
     "data": {
      "text/plain": [
       "np.float64(19.37755319670441)"
      ]
     },
     "execution_count": 6,
     "metadata": {},
     "output_type": "execute_result"
    }
   ],
   "source": [
    "np.mean(data)"
   ]
  },
  {
   "cell_type": "code",
   "execution_count": 7,
   "id": "b5056e78-0713-43bb-9617-2c128f20634f",
   "metadata": {},
   "outputs": [],
   "source": [
    "ztest_Score, p_value = ztest(data, value = null_mean, alternative='larger')"
   ]
  },
  {
   "cell_type": "code",
   "execution_count": 8,
   "id": "7eb93229-e96a-4b6b-aec3-2bab085fef41",
   "metadata": {},
   "outputs": [
    {
     "data": {
      "text/plain": [
       "(np.float64(-0.9953477389335053), np.float64(0.8402164165464012))"
      ]
     },
     "execution_count": 8,
     "metadata": {},
     "output_type": "execute_result"
    }
   ],
   "source": [
    "ztest_Score, p_value"
   ]
  },
  {
   "cell_type": "code",
   "execution_count": 9,
   "id": "d46ee7f7-a953-408c-a9db-c017a4943692",
   "metadata": {},
   "outputs": [
    {
     "name": "stdout",
     "output_type": "stream",
     "text": [
      "Не відхиляємо H0: середній чек статистично НЕ відрізняється від $20.\n"
     ]
    }
   ],
   "source": [
    "if p_value < 0.05:\n",
    "    print(\"Відхиляємо H0: середній чек статистично значуще відрізняється від $20.\")\n",
    "else:\n",
    "    print(\"Не відхиляємо H0: середній чек статистично НЕ відрізняється від $20.\")"
   ]
  },
  {
   "cell_type": "markdown",
   "id": "05219e41",
   "metadata": {
    "ExecuteTime": {
     "end_time": "2022-12-10T14:52:46.140204Z",
     "start_time": "2022-12-10T14:52:46.112068Z"
    },
    "id": "05219e41"
   },
   "source": [
    "2. Пройшов час, і ми зібрали дані про продажі за серпень 2022 року, які зберігли у файл `data_2.csv`. Продажів було дещо більше, але чи змінився стат. значущо середній чек порівняно з липнем 2022? Перевірте це використовуючи ztest.\n",
    "\n",
    "  Виведіть p-значення статистичного тесту та зробіть висновок, чи ми маємо зараз статистично значущу різницю у розмірі середнього чека між двома місяцями.\n",
    "\n",
    "  **Підказка**: треба провести двовибірковий ztest з Н0 - що середні значення в липні та серпні 2022 року - однакові. Для кращого розуміння ситуації, можливо вам буде цікаво переглянути, які середні показники чеку були в кожен з місяців. Порівняйте свій висновок з простого спостереження середніх значень і висновок статистичного тесту. Чи вони збігаються?"
   ]
  },
  {
   "cell_type": "code",
   "execution_count": 10,
   "id": "hbs7LPI4hP-6",
   "metadata": {
    "id": "hbs7LPI4hP-6"
   },
   "outputs": [],
   "source": [
    "df = pd.read_csv('/Users/yuliias/Documents/Data analysis/Course/Home Works/data_statistics/data_2.csv')"
   ]
  },
  {
   "cell_type": "code",
   "execution_count": 11,
   "id": "d3cca568-85a7-4431-b9c6-f570b928054e",
   "metadata": {},
   "outputs": [],
   "source": [
    "data_2 = df['data'].values"
   ]
  },
  {
   "cell_type": "code",
   "execution_count": 12,
   "id": "ccaca8a6-b924-4a80-b9e3-09461b932064",
   "metadata": {},
   "outputs": [
    {
     "data": {
      "text/plain": [
       "(120,)"
      ]
     },
     "execution_count": 12,
     "metadata": {},
     "output_type": "execute_result"
    }
   ],
   "source": [
    "data_2.shape"
   ]
  },
  {
   "cell_type": "code",
   "execution_count": 13,
   "id": "da130d9f-024e-4e85-8490-562b5dab09e7",
   "metadata": {},
   "outputs": [
    {
     "data": {
      "text/plain": [
       "(np.float64(19.37755319670441), np.float64(19.37322276512519))"
      ]
     },
     "execution_count": 13,
     "metadata": {},
     "output_type": "execute_result"
    }
   ],
   "source": [
    "np.mean(data), np.mean(data_2)"
   ]
  },
  {
   "cell_type": "code",
   "execution_count": 14,
   "id": "4398e2ea-b708-4b0a-a98b-40f9abf99bb6",
   "metadata": {},
   "outputs": [],
   "source": [
    "ztest_Score_2, p_value_2 = ztest(data, data_2, value=0)"
   ]
  },
  {
   "cell_type": "code",
   "execution_count": 15,
   "id": "05975fc6-8f2e-4765-b026-c43f5701a797",
   "metadata": {},
   "outputs": [
    {
     "data": {
      "text/plain": [
       "(np.float64(0.005246673456808504), np.float64(0.9958137794593356))"
      ]
     },
     "execution_count": 15,
     "metadata": {},
     "output_type": "execute_result"
    }
   ],
   "source": [
    "ztest_Score_2, p_value_2"
   ]
  },
  {
   "cell_type": "code",
   "execution_count": 16,
   "id": "03a8540c-754b-450f-91a3-44f4382f0023",
   "metadata": {},
   "outputs": [
    {
     "name": "stdout",
     "output_type": "stream",
     "text": [
      "Немає статистично значущої різниці у середніх значення чеку в липні та серпні 2022 року.\n"
     ]
    }
   ],
   "source": [
    "if p_value < 0.05:\n",
    "    print(\"Є статистично значуща різниця у середніх значення чеку в липні та серпні 2022 року.\")\n",
    "else:\n",
    "    print(\"Немає статистично значущої різниці у середніх значення чеку в липні та серпні 2022 року.\")"
   ]
  },
  {
   "cell_type": "code",
   "execution_count": 19,
   "id": "c316dd10-da5e-441a-a23e-d68aa7f3a24e",
   "metadata": {},
   "outputs": [
    {
     "name": "stdout",
     "output_type": "stream",
     "text": [
      "Середнє значення за липень 2022 = 19.37755319670441\n",
      "Середнє значення за серпень 2022 = 19.37322276512519\n",
      "Різниця середніх складає = -0.004330431579223415\n"
     ]
    }
   ],
   "source": [
    "print(f\"Середнє значення за липень 2022 = {np.mean(data)}\")\n",
    "print(f\"Середнє значення за серпень 2022 = {np.mean(data_2)}\")\n",
    "print(f\"Різниця середніх складає = {np.mean(data_2) - np.mean(data)}\")"
   ]
  },
  {
   "cell_type": "markdown",
   "id": "43f3d5a5-9cbd-44ad-aeaf-1ee805ea1e67",
   "metadata": {},
   "source": [
    "Бачимо, що різниця між середніми значеннями дуже маленька, а одже можемо вважати їх рівними.\n",
    "За результатами двовибіркового тесту за серпень 2022 бачимо, що p_value_2 = 0.995 більше за 0.05, тому відкинули гіпотезу. Ми не маємо статистично значущої різниці."
   ]
  },
  {
   "cell_type": "code",
   "execution_count": null,
   "id": "fd6bce57-1d9c-4dd2-a4e6-9abeea5d331f",
   "metadata": {},
   "outputs": [],
   "source": []
  }
 ],
 "metadata": {
  "colab": {
   "provenance": []
  },
  "hide_input": false,
  "kernelspec": {
   "display_name": "Python 3 (ipykernel)",
   "language": "python",
   "name": "python3"
  },
  "language_info": {
   "codemirror_mode": {
    "name": "ipython",
    "version": 3
   },
   "file_extension": ".py",
   "mimetype": "text/x-python",
   "name": "python",
   "nbconvert_exporter": "python",
   "pygments_lexer": "ipython3",
   "version": "3.13.2"
  },
  "toc": {
   "base_numbering": 1,
   "nav_menu": {},
   "number_sections": true,
   "sideBar": true,
   "skip_h1_title": false,
   "title_cell": "Table of Contents",
   "title_sidebar": "Contents",
   "toc_cell": false,
   "toc_position": {},
   "toc_section_display": true,
   "toc_window_display": false
  },
  "varInspector": {
   "cols": {
    "lenName": 16,
    "lenType": 16,
    "lenVar": 40
   },
   "kernels_config": {
    "python": {
     "delete_cmd_postfix": "",
     "delete_cmd_prefix": "del ",
     "library": "var_list.py",
     "varRefreshCmd": "print(var_dic_list())"
    },
    "r": {
     "delete_cmd_postfix": ") ",
     "delete_cmd_prefix": "rm(",
     "library": "var_list.r",
     "varRefreshCmd": "cat(var_dic_list()) "
    }
   },
   "types_to_exclude": [
    "module",
    "function",
    "builtin_function_or_method",
    "instance",
    "_Feature"
   ],
   "window_display": false
  }
 },
 "nbformat": 4,
 "nbformat_minor": 5
}
