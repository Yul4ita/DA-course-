{
 "cells": [
  {
   "cell_type": "markdown",
   "id": "2f1cc58e-0a21-401f-8e37-9bbbf747ddc7",
   "metadata": {},
   "source": [
    "# Домашнє завдання №1\n",
    "\n",
    "1. Ви —  продакт менеджер в компанії, яка займається мобільними додатками. Ваша модель монетизації — підписка. У травні 2019 року до вас приєдналося 100 підписників, у червні — 150, у липні — 170. Скільки ці користувачі принесли вам до початку травня 2021 року (за два роки), якщо щомісячний рівень відтоку становить 5%, а підписка коштує $10?"
   ]
  },
  {
   "cell_type": "markdown",
   "id": "b6f2e33b-502e-41e7-92e4-4905cdf37070",
   "metadata": {},
   "source": [
    "Для кожного місяця буде своя прогресія, бо ті користувачі які підписалися в травні будуть платити 24 місяці, а ті що в червні 23, а ті що в липні 22 місяці. Так як відсоток один і той самий ми можемо використовувати геометричну прогресію."
   ]
  },
  {
   "cell_type": "code",
   "execution_count": 2,
   "id": "6555f266-a704-44da-8f26-8f33d9591d15",
   "metadata": {},
   "outputs": [
    {
     "name": "stdout",
     "output_type": "stream",
     "text": [
      "Загальний дохід за два роки: $57939.37\n"
     ]
    }
   ],
   "source": [
    "# Функція для обчислення суми геометричної прогресії\n",
    "def geometric_sum(a, q, n):\n",
    "    \"\"\"\n",
    "    Обчислює суму геометричної прогресії.\n",
    "    \n",
    "    a: float — перший член прогресії (дохід у першому місяці),\n",
    "    q: float — знаменник прогресії (1 - відтік),\n",
    "    n: int — кількість місяців.\n",
    "    \"\"\"\n",
    "    return a * (1 - q ** n) / (1 - q)\n",
    "\n",
    "price = 10  \n",
    "r = 0.05    \n",
    "q = 1 - r   \n",
    "months = [24, 23, 22] \n",
    "subscribers = [100, 150, 170]  \n",
    "\n",
    "revenues = [\n",
    "    geometric_sum(N0 * price, q, T) for N0, T in zip(subscribers, months)\n",
    "]\n",
    "\n",
    "total_revenue = sum(revenues)\n",
    "print(f\"Загальний дохід за два роки: ${total_revenue:.2f}\")\n"
   ]
  },
  {
   "cell_type": "markdown",
   "id": "5cf9e034-78eb-4101-b24a-2ed5609802f9",
   "metadata": {},
   "source": [
    "2. Ви — менеджер по роботі з продуктом в компанії, яка розробляє мобільні ігри. У січні 2020 року у вас було 2000 активних користувачів. Щомісяця кількість нових користувачів зростає на 3%, але водночас 2% існуючих користувачів перестають користуватися додатком. У результаті, ефективне зростання активних користувачів складає 1% щомісяця.\n",
    "    \n",
    "    Ваша мета — визначити кумулятивну кількість активних користувачів за весь період від січня 2020 року до кінця грудня 2021 року (тобто за 24 місяці), враховуючи щомісячний приріст 1%.\n",
    "    \n",
    "    **Питання**: Якою буде загальна кількість активних користувачів, накопичена за 24 місяці?"
   ]
  },
  {
   "cell_type": "code",
   "execution_count": 10,
   "id": "f72c89ae-a5b5-41de-8a37-74cc69be3da2",
   "metadata": {},
   "outputs": [
    {
     "name": "stdout",
     "output_type": "stream",
     "text": [
      "Кількість активних користувачів за два роки: 53947\n"
     ]
    }
   ],
   "source": [
    "# Функція для обчислення суми геометричної прогресії\n",
    "def geometric_sum(a, q, n):\n",
    "    \"\"\"\n",
    "    Обчислює суму геометричної прогресії.\n",
    "    \n",
    "    a: float — початкова кількість користувачів,\n",
    "    q: float — множник зростання (1 + процент зростання),\n",
    "    n: int — кількість місяців.\n",
    "    \"\"\"\n",
    "    return a * (1 - q ** n) / (1 - q)\n",
    "a = 2000\n",
    "n = 24\n",
    "r = 0.01    \n",
    "q = 1 + r   \n",
    "\n",
    "total_revenue = geometric_sum(a, q, n)\n",
    "print(f\"Кількість активних користувачів за два роки: {total_revenue:.0f}\")"
   ]
  },
  {
   "cell_type": "markdown",
   "id": "eb1189fe-a7c8-482e-bbd5-2d6f488040b3",
   "metadata": {},
   "source": [
    "3. Ви — менеджер з розвитку бізнесу в компанії, що займається створенням платформи для онлайн-курсів. У січні 2021 року ви залучили 500 нових користувачів. У лютому кількість нових користувачів зросла на 50%, у березні — ще на 20%. З квітня приріст нових користувачів стабілізувався на рівні 10% щомісяця. Скільки активних користувачів ви мали загалом за перше півріччя 2021 року?"
   ]
  },
  {
   "cell_type": "markdown",
   "id": "eda58f40-b401-440e-918d-62dab1511757",
   "metadata": {},
   "source": [
    "За лютий приріст 50%, отже, кількість користувачів 500 * 1,5\n",
    "Кожен наступний місяць ви знаходимо приріст від попереднього"
   ]
  },
  {
   "cell_type": "code",
   "execution_count": 14,
   "id": "08fbad5a-8afa-45ec-affa-0ac0eaef9360",
   "metadata": {},
   "outputs": [
    {
     "name": "stdout",
     "output_type": "stream",
     "text": [
      "Загальна кількість активних користувачів за перше півріччя 2021 року: 5427\n"
     ]
    }
   ],
   "source": [
    "users_january = 500\n",
    "\n",
    "# Приріст по місяцях\n",
    "growth_february = 1.5  \n",
    "growth_march = 1.2     \n",
    "growth_april_to_june = 1.1  \n",
    "\n",
    "users_february = users_january * growth_february\n",
    "users_march = users_february * growth_march\n",
    "users_april = users_march * growth_april_to_june\n",
    "users_may = users_april * growth_april_to_june\n",
    "users_june = users_may * growth_april_to_june\n",
    "\n",
    "total_users = users_january + users_february + users_march + users_april + users_may + users_june\n",
    "\n",
    "print(f\"Загальна кількість активних користувачів за перше півріччя 2021 року: {total_users:.0f}\")\n"
   ]
  },
  {
   "cell_type": "code",
   "execution_count": null,
   "id": "d64c4e0b-9f6a-4803-9a7e-e116729348f9",
   "metadata": {},
   "outputs": [],
   "source": []
  }
 ],
 "metadata": {
  "kernelspec": {
   "display_name": "Python 3 (ipykernel)",
   "language": "python",
   "name": "python3"
  },
  "language_info": {
   "codemirror_mode": {
    "name": "ipython",
    "version": 3
   },
   "file_extension": ".py",
   "mimetype": "text/x-python",
   "name": "python",
   "nbconvert_exporter": "python",
   "pygments_lexer": "ipython3",
   "version": "3.11.8"
  }
 },
 "nbformat": 4,
 "nbformat_minor": 5
}
