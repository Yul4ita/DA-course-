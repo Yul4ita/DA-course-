{
  "cells": [
    {
      "cell_type": "markdown",
      "metadata": {
        "id": "view-in-github",
        "colab_type": "text"
      },
      "source": [
        "<a href=\"https://colab.research.google.com/github/Yul4ita/DA-course-/blob/main/%D0%94%D0%BE%D0%BC%D0%B0%D1%88%D0%BD%D1%94_%D0%B7%D0%B0%D0%B2%D0%B4%D0%B0%D0%BD%D0%BD%D1%8F_%E2%84%963_Python_%2B_SQL.ipynb\" target=\"_parent\"><img src=\"https://colab.research.google.com/assets/colab-badge.svg\" alt=\"Open In Colab\"/></a>"
      ]
    },
    {
      "cell_type": "markdown",
      "id": "2153041f",
      "metadata": {
        "id": "2153041f"
      },
      "source": [
        "# Завдання на використання SQL в Python"
      ]
    },
    {
      "cell_type": "markdown",
      "id": "2c1af6e1",
      "metadata": {
        "ExecuteTime": {
          "end_time": "2022-11-27T18:04:46.316592Z",
          "start_time": "2022-11-27T18:04:46.302021Z"
        },
        "id": "2c1af6e1"
      },
      "source": [
        "1.Встановіть бібліотеку `mysql-connector-python` через pip aбо через conda."
      ]
    },
    {
      "cell_type": "code",
      "execution_count": 3,
      "id": "a8fcd64e",
      "metadata": {
        "id": "a8fcd64e",
        "colab": {
          "base_uri": "https://localhost:8080/"
        },
        "outputId": "8941cca0-d4c4-4bf6-d567-b8747f6d3527"
      },
      "outputs": [
        {
          "output_type": "stream",
          "name": "stdout",
          "text": [
            "Collecting mysql-connector-python\n",
            "  Downloading mysql_connector_python-9.1.0-cp310-cp310-manylinux_2_28_x86_64.whl.metadata (6.0 kB)\n",
            "Downloading mysql_connector_python-9.1.0-cp310-cp310-manylinux_2_28_x86_64.whl (34.4 MB)\n",
            "\u001b[2K   \u001b[90m━━━━━━━━━━━━━━━━━━━━━━━━━━━━━━━━━━━━━━━━\u001b[0m \u001b[32m34.4/34.4 MB\u001b[0m \u001b[31m35.8 MB/s\u001b[0m eta \u001b[36m0:00:00\u001b[0m\n",
            "\u001b[?25hInstalling collected packages: mysql-connector-python\n",
            "Successfully installed mysql-connector-python-9.1.0\n"
          ]
        }
      ],
      "source": [
        "!pip install mysql-connector-python"
      ]
    },
    {
      "cell_type": "markdown",
      "id": "eec5551e",
      "metadata": {
        "pycharm": {
          "name": "#%% md\n"
        },
        "id": "eec5551e"
      },
      "source": [
        "2.В змінній `con` створіть підключення до бази даних employees за аналогією того, як це робилось в лекції:"
      ]
    },
    {
      "cell_type": "code",
      "execution_count": 79,
      "id": "e3fff0d8",
      "metadata": {
        "id": "e3fff0d8"
      },
      "outputs": [],
      "source": [
        "import mysql.connector\n",
        "from mysql.connector import (connection)\n",
        "import datetime\n",
        "\n",
        "con = connection.MySQLConnection(user='user1', password='7oygWy6P',\n",
        "host='3.68.62.36',\n",
        "database='employees')"
      ]
    },
    {
      "cell_type": "markdown",
      "id": "8b17a588",
      "metadata": {
        "ExecuteTime": {
          "end_time": "2022-01-26T22:23:01.406330Z",
          "start_time": "2022-01-26T22:23:01.403942Z"
        },
        "pycharm": {
          "name": "#%% md\n"
        },
        "id": "8b17a588"
      },
      "source": [
        "3.Виберіть максимальну і мінімальну дати найму співробітників використовуючи `con.cursor()`. Аби отримати результати в кінці, виконайте `cursor.fetchall()`."
      ]
    },
    {
      "cell_type": "code",
      "execution_count": null,
      "id": "2d9785de",
      "metadata": {
        "id": "2d9785de",
        "colab": {
          "base_uri": "https://localhost:8080/"
        },
        "outputId": "423beb78-cbf0-4bc6-c7c3-05b24878ae6f"
      },
      "outputs": [
        {
          "output_type": "execute_result",
          "data": {
            "text/plain": [
              "[(datetime.date(2000, 1, 28), datetime.date(1985, 1, 1))]"
            ]
          },
          "metadata": {},
          "execution_count": 4
        }
      ],
      "source": [
        "cursor = con.cursor()\n",
        "sql = \"\"\"\n",
        "SELECT max(hire_date), min(hire_date)\n",
        "FROM employees;\n",
        "\"\"\"\n",
        "cursor.execute(sql)\n",
        "cursor.fetchall()"
      ]
    },
    {
      "cell_type": "markdown",
      "id": "955dd2fa",
      "metadata": {
        "ExecuteTime": {
          "end_time": "2022-11-27T18:11:33.491134Z",
          "start_time": "2022-11-27T18:11:33.486973Z"
        },
        "id": "955dd2fa"
      },
      "source": [
        "Очікуваний результат:  \n",
        "    `[(datetime.date(2000, 1, 28), datetime.date(1985, 1, 1))]`"
      ]
    },
    {
      "cell_type": "markdown",
      "id": "1d9c214d",
      "metadata": {
        "ExecuteTime": {
          "end_time": "2023-07-14T15:52:49.876166Z",
          "start_time": "2023-07-14T15:52:49.855548Z"
        },
        "id": "1d9c214d"
      },
      "source": [
        "4.Давайте зберемо інформацію про останню ЗП кожного співробіткника в базі. З використанням `con.cursor()` виберіть з таблиці `salaries` для кожного співробітника його номер, останню в базі даних (тобто ту, що відповідає найновішій `to_date`) ЗП, та значення `from_date`, `to_date` для цієї ЗП.\n",
        "\n",
        "Результати запишіть у pandas DataFrame, який збережіть у змінну `res`. Як взяти з курсора назви колонок - вже наведено. На екран виведіть назви колонок в змінній `res`, розмір цього датафрейму та перші 3 записи в ньому.\n",
        "\n",
        "УВАГА! Зверніть увагу, що ЗП може оновлюватись протягом одного дня, тобто є випадки, коли апдейт ЗП був в певний день, скажімо 2001-01-01 і потім стався ще один апдейт ЗП цьому співробітнику цього самого дня. Запит має це враховувати.\n",
        "Також, теоретично ЗП може бути зменшена. Тож, брати дату з максимальною ЗП буде неправильно з точки зору бізнес логіки. Треба саме останнє історичне значення ЗП кожного співробітника."
      ]
    },
    {
      "cell_type": "code",
      "source": [
        "import pandas as pd"
      ],
      "metadata": {
        "id": "l0WSWlIzYSIJ"
      },
      "id": "l0WSWlIzYSIJ",
      "execution_count": 6,
      "outputs": []
    },
    {
      "cell_type": "code",
      "execution_count": 69,
      "id": "f326ba43",
      "metadata": {
        "id": "f326ba43",
        "colab": {
          "base_uri": "https://localhost:8080/"
        },
        "outputId": "7675a073-32a1-4f79-ddf6-ad1f4daa3476"
      },
      "outputs": [
        {
          "output_type": "stream",
          "name": "stdout",
          "text": [
            "Index(['emp_no', 'salary', 'to_date', 'from_date'], dtype='object')\n",
            "(300180, 4)\n",
            "   emp_no  salary     to_date   from_date\n",
            "0   10001   88958  9999-01-01  2002-06-22\n",
            "1   10002   72527  9999-01-01  2001-08-02\n",
            "2   10003   43311  9999-01-01  2001-12-01\n"
          ]
        }
      ],
      "source": [
        "cursor = con.cursor()\n",
        "sql = \"\"\" SELECT s1.emp_no, s1.salary, s1.to_date, s1.from_date\n",
        "FROM salaries s1\n",
        "JOIN (\n",
        "    SELECT emp_no, MAX(to_date) as max_to_date\n",
        "    FROM salaries\n",
        "    GROUP BY emp_no\n",
        "    ) s2\n",
        "ON s1.emp_no = s2.emp_no AND s1.to_date = s2.max_to_date\n",
        "ORDER BY s1.emp_no;\n",
        "\"\"\"\n",
        "cursor.execute(sql)\n",
        "res = cursor.fetchall()\n",
        "field_names = [i[0] for i in cursor.description]\n",
        "res = pd.DataFrame(res, columns=field_names)\n",
        "pd.DataFrame.columns = res.columns\n",
        "print(res.columns)\n",
        "print(res.shape)\n",
        "print(res.head(3))"
      ]
    },
    {
      "cell_type": "markdown",
      "source": [
        "АБО СПРОБУВАЛА ЧЕРЕЗ FATCHMANY(3), але тоді це не підійде для наступного завдання\n"
      ],
      "metadata": {
        "id": "2tb2w0KSbmyp"
      },
      "id": "2tb2w0KSbmyp"
    },
    {
      "cell_type": "code",
      "source": [
        "cursor = con.cursor()\n",
        "sql = \"\"\" SELECT s1.emp_no, s1.salary, s1.to_date, s1.from_date\n",
        "FROM salaries s1\n",
        "JOIN (\n",
        "    SELECT emp_no, MAX(to_date) as max_to_date\n",
        "    FROM salaries\n",
        "    GROUP BY emp_no\n",
        "    ) s2\n",
        "ON s1.emp_no = s2.emp_no AND s1.to_date = s2.max_to_date\n",
        "ORDER BY s1.emp_no;\n",
        "\"\"\"\n",
        "cursor.execute(sql)\n",
        "res = cursor.fetchmany(3)\n",
        "field_names = [i[0] for i in cursor.description]\n",
        "res = pd.DataFrame(res, columns=field_names)\n",
        "print(res)"
      ],
      "metadata": {
        "colab": {
          "base_uri": "https://localhost:8080/"
        },
        "id": "o8uDrIrsbcca",
        "outputId": "fffb1d1e-d526-404d-e2d7-cecea31e662f"
      },
      "id": "o8uDrIrsbcca",
      "execution_count": 65,
      "outputs": [
        {
          "output_type": "stream",
          "name": "stdout",
          "text": [
            "   emp_no  salary     to_date   from_date\n",
            "0   10001   88958  9999-01-01  2002-06-22\n",
            "1   10002   72527  9999-01-01  2001-08-02\n",
            "2   10003   43311  9999-01-01  2001-12-01\n"
          ]
        }
      ]
    },
    {
      "cell_type": "markdown",
      "id": "fb5676cb",
      "metadata": {
        "id": "fb5676cb"
      },
      "source": [
        "Очікуваний результат:\n",
        "\n",
        "![](https://drive.google.com/uc?export=view&id=1lNvzbAebtkj3C2v-I5AE6HkMH8MTI1kA)"
      ]
    },
    {
      "cell_type": "markdown",
      "id": "e5770b56",
      "metadata": {
        "ExecuteTime": {
          "end_time": "2023-07-14T16:17:31.638485Z",
          "start_time": "2023-07-14T16:17:31.632827Z"
        },
        "id": "e5770b56"
      },
      "source": [
        "5.В утвореній вибірці в змінній `res` скільки значень `to_date` рівні `9999-01-01`, а скільки - ні? Увага! Для виконання цього завдання важливо розуміти, який тип даних у значень колонки `to_date`. Зʼясуйте це, і потім напишіть фільтр для виводу потрібного результату."
      ]
    },
    {
      "cell_type": "code",
      "source": [
        "print(res.to_date.value_counts())"
      ],
      "metadata": {
        "colab": {
          "base_uri": "https://localhost:8080/"
        },
        "id": "1asP1kzvWYg1",
        "outputId": "2b467afa-e900-4261-fcef-b4fc6e7fd914"
      },
      "id": "1asP1kzvWYg1",
      "execution_count": 75,
      "outputs": [
        {
          "output_type": "stream",
          "name": "stdout",
          "text": [
            "to_date\n",
            "9999-01-01    240124\n",
            "2000-01-19        36\n",
            "2000-07-15        35\n",
            "2000-05-31        34\n",
            "2001-05-24        33\n",
            "               ...  \n",
            "1985-06-08         1\n",
            "1989-11-11         1\n",
            "1988-05-16         1\n",
            "1987-11-07         1\n",
            "1987-08-25         1\n",
            "Name: count, Length: 5879, dtype: int64\n"
          ]
        }
      ]
    },
    {
      "cell_type": "code",
      "source": [
        "from datetime import date\n",
        "\n",
        "target_date = date(9999, 1, 1)\n",
        "count_equal = res[res['to_date'] == target_date].shape[0]\n",
        "count_not_equal = res[res['to_date'] != target_date].shape[0]\n",
        "\n",
        "print(\"Кількість значень to_date == 9999-01-01:\", count_equal)\n",
        "print(\"Кількість значень to_date != 9999-01-01:\", count_not_equal)\n"
      ],
      "metadata": {
        "colab": {
          "base_uri": "https://localhost:8080/"
        },
        "id": "NTppF2IsX9Yl",
        "outputId": "ed2378b2-94e8-45cd-eb11-3265aabc90ec"
      },
      "id": "NTppF2IsX9Yl",
      "execution_count": 82,
      "outputs": [
        {
          "output_type": "stream",
          "name": "stdout",
          "text": [
            "Кількість значень to_date == 9999-01-01: 240124\n",
            "Кількість значень to_date != 9999-01-01: 60056\n"
          ]
        }
      ]
    },
    {
      "cell_type": "markdown",
      "id": "ae22c37a",
      "metadata": {
        "id": "ae22c37a"
      },
      "source": [
        "6.Виведіть візуально розподіл (гістограму) зарплат співробітників, які досі працюють в компанії, використовуючи результат попереднього завдання. Співробітниками, які досі працюють в компанії вважаємо тих, в кого to_date має значення 9999-01-01. Обовʼязково підпишіть графік і вісі.\n",
        "\n",
        "Ці три завдання - приклад, як нам може бути зручно витягнути дані з бази певним запитом, а потім використати витягнуту вибірку у Python для подальшого аналізу."
      ]
    },
    {
      "cell_type": "code",
      "source": [
        "import matplotlib.pyplot as plt\n",
        "from datetime import date\n",
        "current_employees = res[res['to_date'] == date(9999, 1, 1)]\n",
        "\n",
        "plt.figure(figsize=(8, 6))\n",
        "plt.hist(current_employees['salary'], color='blue')\n",
        "\n",
        "plt.title('Розподіл зарплат співробітників, які досі працюють в компанії')\n",
        "plt.xlabel('Зарплата')\n",
        "plt.ylabel('Кількість співробітників')\n",
        "plt.grid()\n",
        "plt.show()\n"
      ],
      "metadata": {
        "colab": {
          "base_uri": "https://localhost:8080/",
          "height": 564
        },
        "id": "upROI9BvZnX_",
        "outputId": "a76f4d4f-c085-480e-e759-3031601feda3"
      },
      "id": "upROI9BvZnX_",
      "execution_count": 102,
      "outputs": [
        {
          "output_type": "display_data",
          "data": {
            "text/plain": [
              "<Figure size 800x600 with 1 Axes>"
            ],
            "image/png": "[encoded data removed]"
          },
          "metadata": {}
        }
      ]
    },
    {
      "cell_type": "markdown",
      "source": [
        "Очікуваний результат:\n",
        "\n",
        "![](https://drive.google.com/uc?export=view&id=1j8MHLC1E0revbQLM9B0UJs6tVEgoWhmK)"
      ],
      "metadata": {
        "id": "AL26SP3WMJiX"
      },
      "id": "AL26SP3WMJiX"
    },
    {
      "cell_type": "markdown",
      "source": [
        "НЕ ЗАБУВАЄМО ЗАКРИТИ ПІДКЛЮЧЕННЯ ДО БАЗИ :)"
      ],
      "metadata": {
        "id": "Cp_JpGPpKmzp"
      },
      "id": "Cp_JpGPpKmzp"
    },
    {
      "cell_type": "code",
      "source": [
        "con.close()"
      ],
      "metadata": {
        "id": "WEMo9bl6KnMh"
      },
      "id": "WEMo9bl6KnMh",
      "execution_count": null,
      "outputs": []
    }
  ],
  "metadata": {
    "kernelspec": {
      "display_name": "Python 3 (ipykernel)",
      "language": "python",
      "name": "python3"
    },
    "language_info": {
      "codemirror_mode": {
        "name": "ipython",
        "version": 3
      },
      "file_extension": ".py",
      "mimetype": "text/x-python",
      "name": "python",
      "nbconvert_exporter": "python",
      "pygments_lexer": "ipython3",
      "version": "3.10.4"
    },
    "toc": {
      "base_numbering": 1,
      "nav_menu": {},
      "number_sections": true,
      "sideBar": true,
      "skip_h1_title": false,
      "title_cell": "Table of Contents",
      "title_sidebar": "Contents",
      "toc_cell": false,
      "toc_position": {},
      "toc_section_display": true,
      "toc_window_display": false
    },
    "vscode": {
      "interpreter": {
        "hash": "a6511e6b41b26ba86cca7483749cf4dd15bf137a2672e550741a656e19bba82e"
      }
    },
    "colab": {
      "provenance": [],
      "include_colab_link": true
    }
  },
  "nbformat": 4,
  "nbformat_minor": 5
}