{
  "nbformat": 4,
  "nbformat_minor": 0,
  "metadata": {
    "colab": {
      "provenance": [],
      "include_colab_link": true
    },
    "kernelspec": {
      "name": "python3",
      "display_name": "Python 3"
    },
    "language_info": {
      "name": "python"
    }
  },
  "cells": [
    {
      "cell_type": "markdown",
      "metadata": {
        "id": "view-in-github",
        "colab_type": "text"
      },
      "source": [
        "<a href=\"https://colab.research.google.com/github/Yul4ita/DA-course-/blob/main/hw_6_1_%D0%9E%D1%81%D0%BD%D0%BE%D0%B2%D0%B8_%D1%81%D1%82%D0%B0%D1%82%D0%B8%D1%81%D1%82%D0%B8%D0%BA%D0%B8.ipynb\" target=\"_parent\"><img src=\"https://colab.research.google.com/assets/colab-badge.svg\" alt=\"Open In Colab\"/></a>"
      ]
    },
    {
      "cell_type": "markdown",
      "source": [
        "В цьому домашньому завданні відпрацюємо з вами знання, отримані в модулі зі статистики.\n",
        "\n",
        "**Завдання 1.** Ми обговорили з Вами на лекції, що велика літера Сігма грецького алфавіту позначає в математиці суму. Знайдіть з використанням Python $\\Sigma x$, $\\Sigma x^2$, та $\\Sigma (x-1)^2$ для наступного набору даних:\n",
        "`1 3 4`\n",
        "Виведіть результат кожного обчислення на екран."
      ],
      "metadata": {
        "id": "SDhaTqxcWhnP"
      }
    },
    {
      "cell_type": "code",
      "source": [
        "import numpy as np"
      ],
      "metadata": {
        "id": "29VIcVCoKmsj"
      },
      "execution_count": 1,
      "outputs": []
    },
    {
      "cell_type": "code",
      "source": [
        "a = [1, 3, 4]\n",
        "mean_a = sum(a) /len(a)\n",
        "mean_a"
      ],
      "metadata": {
        "id": "B1mgx_IBT0e8",
        "colab": {
          "base_uri": "https://localhost:8080/"
        },
        "outputId": "73dd8e63-b129-4dd1-a9d4-0c3eb02379dd"
      },
      "execution_count": null,
      "outputs": [
        {
          "output_type": "execute_result",
          "data": {
            "text/plain": [
              "2.6666666666666665"
            ]
          },
          "metadata": {},
          "execution_count": 44
        }
      ]
    },
    {
      "cell_type": "code",
      "source": [
        "print(f\"{mean_a:.3f}\")  #для себе, щоб згадати як то робити"
      ],
      "metadata": {
        "colab": {
          "base_uri": "https://localhost:8080/"
        },
        "id": "801dvemUOXQr",
        "outputId": "2d35d2d7-72ec-4754-b94e-db07f6b686fc"
      },
      "execution_count": null,
      "outputs": [
        {
          "output_type": "stream",
          "name": "stdout",
          "text": [
            "2.667\n"
          ]
        }
      ]
    },
    {
      "cell_type": "code",
      "source": [
        "square_a = [n**2 for n in a]\n",
        "square_a = sum(square_a) / len(square_a)\n",
        "square_a"
      ],
      "metadata": {
        "colab": {
          "base_uri": "https://localhost:8080/"
        },
        "id": "VHqz-eRtO7GR",
        "outputId": "c2bf9472-cfff-4f19-801a-2029b66387d7"
      },
      "execution_count": null,
      "outputs": [
        {
          "output_type": "execute_result",
          "data": {
            "text/plain": [
              "8.666666666666666"
            ]
          },
          "metadata": {},
          "execution_count": 14
        }
      ]
    },
    {
      "cell_type": "code",
      "source": [
        "difference_a = [(n - 1)**2 for n in a]\n",
        "difference_a = sum(difference_a) / len(difference_a)\n",
        "difference_a"
      ],
      "metadata": {
        "colab": {
          "base_uri": "https://localhost:8080/"
        },
        "id": "ycGrvCp3PnUx",
        "outputId": "f0665fc5-7234-481b-90ca-90a9cb32ce22"
      },
      "execution_count": null,
      "outputs": [
        {
          "output_type": "execute_result",
          "data": {
            "text/plain": [
              "4.333333333333333"
            ]
          },
          "metadata": {},
          "execution_count": 17
        }
      ]
    },
    {
      "cell_type": "code",
      "source": [
        "#Середнє значення за допомогою numpy\n",
        "np.mean(a), np.mean(square_a), np.mean(difference_a)"
      ],
      "metadata": {
        "colab": {
          "base_uri": "https://localhost:8080/"
        },
        "id": "IJiAOOeRQzBh",
        "outputId": "e1d15bc2-7a96-406e-f73c-0ce7365e28fb"
      },
      "execution_count": null,
      "outputs": [
        {
          "output_type": "execute_result",
          "data": {
            "text/plain": [
              "(2.6666666666666665, 8.666666666666666, 4.333333333333333)"
            ]
          },
          "metadata": {},
          "execution_count": 21
        }
      ]
    },
    {
      "cell_type": "markdown",
      "source": [
        "**Завдання 2.** Ми зібрали дані про суму покупок в гривнях 20ма випадково обраними клієнтами в нашому магазині (всього клієнтів у нас більше) за минулий місяць. Вони представлені в змінній `sum_purchases`. Знайдіть **вибіркове середнє** для цих даних кожним з зазначених методів:   \n",
        "\n",
        "  2.1. без використання жодних бібліотек, користуючись тільки Python.  \n",
        "  2.2. використовуючи відповідний метод бібліотеки `numpy`.\n",
        "\n",
        "  Виведіть результат обчислень в кожному з випадків на екран та порівняйте результати. Вони співпадають?"
      ],
      "metadata": {
        "id": "fa78aW5lhiia"
      }
    },
    {
      "cell_type": "code",
      "execution_count": 2,
      "metadata": {
        "id": "_9kMt3rq6V5m"
      },
      "outputs": [],
      "source": [
        "sum_purchases = [ 316,  493,  367,  153,  224,  121,  322,  450,  196,  397,  281,\n",
        "  239,  484,  124,  223,  448,  432,  255, 4310, 3524]"
      ]
    },
    {
      "cell_type": "code",
      "source": [
        "mean_purchases = sum(sum_purchases) / len(sum_purchases)\n",
        "mean_purchases"
      ],
      "metadata": {
        "id": "wPmL919HT1c0",
        "colab": {
          "base_uri": "https://localhost:8080/"
        },
        "outputId": "2cbaff42-3af1-451f-86af-194b77e9bb4c"
      },
      "execution_count": 3,
      "outputs": [
        {
          "output_type": "execute_result",
          "data": {
            "text/plain": [
              "667.95"
            ]
          },
          "metadata": {},
          "execution_count": 3
        }
      ]
    },
    {
      "cell_type": "code",
      "source": [
        "np.mean(sum_purchases)"
      ],
      "metadata": {
        "colab": {
          "base_uri": "https://localhost:8080/"
        },
        "id": "5NU2DsclR0ZZ",
        "outputId": "d32672f3-9060-4978-c26f-26cba7978d44"
      },
      "execution_count": null,
      "outputs": [
        {
          "output_type": "execute_result",
          "data": {
            "text/plain": [
              "667.95"
            ]
          },
          "metadata": {},
          "execution_count": 25
        }
      ]
    },
    {
      "cell_type": "code",
      "source": [
        "if mean_purchases == np.mean(sum_purchases):\n",
        "  print('Так, значення співпадають')\n",
        "else:\n",
        "  print('Ні, значення не співпадають')"
      ],
      "metadata": {
        "colab": {
          "base_uri": "https://localhost:8080/"
        },
        "id": "Wp3hO4FDSWCy",
        "outputId": "0d187eda-a448-44b9-b483-3b21cfe9221c"
      },
      "execution_count": null,
      "outputs": [
        {
          "output_type": "stream",
          "name": "stdout",
          "text": [
            "Так, значення співпадають\n"
          ]
        }
      ]
    },
    {
      "cell_type": "markdown",
      "source": [
        "**Завдання 3.** Для того ж набору даних в змінній `sum_purchases` обчисліть **медіану** кожним з зазначених методів:  \n",
        "\n",
        "  3.1. без використання жодних бібліотек, користуючись тільки Python.  \n",
        "  3.2. використовуючи відповідний метод бібліотеки numpy.  \n",
        "\n",
        "Виведіть результат обчислень в кожному з випадків на екран. Порівняйте результати зі значенням вибіркового середнього. Напишіть коментар, для яких задач ви б використовували вибіркове середнє, а для яких - медіану?"
      ],
      "metadata": {
        "id": "FMdoxZd0kZdW"
      }
    },
    {
      "cell_type": "code",
      "source": [
        "print(sorted(sum_purchases), '; ', len(sum_purchases))"
      ],
      "metadata": {
        "id": "x58BumvuT2nl",
        "colab": {
          "base_uri": "https://localhost:8080/"
        },
        "outputId": "9fd8a324-3c99-4465-fc51-c2d0ddc4cd24"
      },
      "execution_count": null,
      "outputs": [
        {
          "output_type": "stream",
          "name": "stdout",
          "text": [
            "[121, 124, 153, 196, 223, 224, 239, 255, 281, 316, 322, 367, 397, 432, 448, 450, 484, 493, 3524, 4310] ;  20\n"
          ]
        }
      ]
    },
    {
      "cell_type": "code",
      "source": [
        "median_purchases = (sorted(sum_purchases)[len(sum_purchases) // 2 - 1] + sorted(sum_purchases)[len(sum_purchases) // 2]) / 2\n",
        "median_purchases"
      ],
      "metadata": {
        "colab": {
          "base_uri": "https://localhost:8080/"
        },
        "id": "9sdQB8BeTuLQ",
        "outputId": "d93ae80e-3020-4320-edf4-65ea1952ea38"
      },
      "execution_count": null,
      "outputs": [
        {
          "output_type": "execute_result",
          "data": {
            "text/plain": [
              "319.0"
            ]
          },
          "metadata": {},
          "execution_count": 41
        }
      ]
    },
    {
      "cell_type": "code",
      "source": [
        "np.median(sum_purchases)"
      ],
      "metadata": {
        "colab": {
          "base_uri": "https://localhost:8080/"
        },
        "id": "Kl90VbA3WS0A",
        "outputId": "5e83673e-fdc6-4842-dbaa-95f65a6a633f"
      },
      "execution_count": null,
      "outputs": [
        {
          "output_type": "execute_result",
          "data": {
            "text/plain": [
              "319.0"
            ]
          },
          "metadata": {},
          "execution_count": 36
        }
      ]
    },
    {
      "cell_type": "code",
      "source": [
        "if  median_purchases > mean_purchases:\n",
        "    print(\"Медіана більша за вибіркове середнє.\")\n",
        "elif median_purchases < mean_purchases:\n",
        "    print(\"Медіана менша за вибіркове середнє.\")"
      ],
      "metadata": {
        "colab": {
          "base_uri": "https://localhost:8080/"
        },
        "id": "3d3gNK39jXMo",
        "outputId": "ab9eb17f-f556-404e-d76d-92bc308acddd"
      },
      "execution_count": null,
      "outputs": [
        {
          "output_type": "stream",
          "name": "stdout",
          "text": [
            "Медіана менша за вибіркове середнє.\n"
          ]
        }
      ]
    },
    {
      "cell_type": "markdown",
      "source": [
        "Медіана менша за вибіркове середнє значення, отже, це означає, що серединне значення суми покупки 319, а середнє значення суми покупки дорівнює 667.97.\n",
        "- Для яких задач я б використовувала медіану?\n",
        "\n",
        "  *Наприклад*, щоб порівняти з мінімальним та максимальним значенням і зрозуміти розподіл, розмах наших даних. Зрозуміти чи дані рівномірні чи є якість виключення, у вибірці де є великий розрив.\n",
        "- Для яких задач я б використовувала вибіркове середнє?\n",
        "\n",
        "  *Наприклад*, або серед рівномірної вибірки знайти середнє, або мати якесь середнє значення за довгий період часу, або щоб побачити загальну тенденцію."
      ],
      "metadata": {
        "id": "a9NoSFHEkP6u"
      }
    },
    {
      "cell_type": "markdown",
      "source": [
        "**Завдання 4**. Обчислість стандартне відхилення наведеної вибірки в змінній `sum_purchases` кожним з зазначених методів:  \n",
        "\n",
        "  4.1. без використання жодних бібліотек, користуючись тільки Python.  \n",
        "  4.2. використовуючи відповідний метод бібліотеки numpy.  \n",
        "\n",
        "Виведіть результат обчислень в кожному з випадків на екран."
      ],
      "metadata": {
        "id": "o1Z7az2yNDQV"
      }
    },
    {
      "cell_type": "code",
      "source": [
        "x_minus_mean = [(x - mean_purchases)**2 for x in sum_purchases]\n",
        "divide_x = sum(x_minus_mean) / (len(sum_purchases) - 1)\n",
        "root_divide_x = divide_x ** 0.5\n",
        "root_divide_x"
      ],
      "metadata": {
        "id": "X4ixtmL2T642",
        "colab": {
          "base_uri": "https://localhost:8080/"
        },
        "outputId": "8f9ea01f-dfa2-4e79-9eb1-6b4a6b3d5ea4"
      },
      "execution_count": 4,
      "outputs": [
        {
          "output_type": "execute_result",
          "data": {
            "text/plain": [
              "1124.5433447451132"
            ]
          },
          "metadata": {},
          "execution_count": 4
        }
      ]
    },
    {
      "cell_type": "code",
      "source": [
        "np.std(sum_purchases, ddof=1)"
      ],
      "metadata": {
        "colab": {
          "base_uri": "https://localhost:8080/"
        },
        "id": "nWG89PsM4_sZ",
        "outputId": "c3449c87-b9ea-4abc-fd4c-9554a1d4bf1a"
      },
      "execution_count": null,
      "outputs": [
        {
          "output_type": "execute_result",
          "data": {
            "text/plain": [
              "1124.5433447451132"
            ]
          },
          "metadata": {},
          "execution_count": 53
        }
      ]
    },
    {
      "cell_type": "markdown",
      "source": [
        "**Завдання 5**. Ми провели дослідження віку студентів-першокурсників. Виявилось, що\n",
        "- 10 студентів мають вік 16 років\n",
        "- 25 студентів - 17 років\n",
        "- 20 студентів - 18 років\n",
        "- 2 студенти - 20 років\n",
        "\n",
        "Обчислість середнє значення для цієї вибірки будь-яким способом - на чистому Python або з numpy - та виведіть результат на екран."
      ],
      "metadata": {
        "id": "M1ntKTjXLVlH"
      }
    },
    {
      "cell_type": "code",
      "source": [
        "students_sample = [[16]*10 + [17]*25 + [18]*20 + [20]*2]\n",
        "np.mean(students_sample)"
      ],
      "metadata": {
        "id": "RdIU4M-7T8R4",
        "colab": {
          "base_uri": "https://localhost:8080/"
        },
        "outputId": "50a6219a-a595-4eea-f14d-fb3b6ac6796f"
      },
      "execution_count": 5,
      "outputs": [
        {
          "output_type": "execute_result",
          "data": {
            "text/plain": [
              "17.280701754385966"
            ]
          },
          "metadata": {},
          "execution_count": 5
        }
      ]
    },
    {
      "cell_type": "markdown",
      "source": [
        "**Завдання 6**. Крім даних про суму покупок, ми зібрали ще дані про кількість відвідувань кожного з кожного покупця, які знаходяться в змінній `visits`. Обчисліть коефіцієнт кореляції Пірсона для суми покупок і кількості відвідувань кожним з зазначених методів:  \n",
        "\n",
        "  6.1. без використання жодних бібліотек, користуючись тільки Python.  \n",
        "  6.2. використовуючи відповідний метод бібліотеки numpy.  \n",
        "  \n",
        "Виведіть результат на екран. Проаналізуйте результат.\n",
        "\n",
        "Виведіть додатково графік розсіювання викликавши код нижче і зробіть заключення, чи варто щось змінити при підрахунку кореляції, аби коефіцієнт Пірсона показував коректну оцінку лінійної залежності?"
      ],
      "metadata": {
        "id": "Xx8MFkkVM53z"
      }
    },
    {
      "cell_type": "code",
      "source": [
        "visits = [ 6,  2, 10,  3,  9,  9,  2,  3,  6,  6, 10,  2,  5, 10,  3,  5,  4,\n",
        "        7,  4,  2]"
      ],
      "metadata": {
        "id": "4OIGBT7UOWhO"
      },
      "execution_count": 6,
      "outputs": []
    },
    {
      "cell_type": "code",
      "source": [
        "sum_purchases = [ 316,  493,  367,  153,  224,  121,  322,  450,  196,  397,  281,\n",
        "  239,  484,  124,  223,  448,  432,  255, 4310, 3524]"
      ],
      "metadata": {
        "id": "YLNF7VbeT97Q"
      },
      "execution_count": 7,
      "outputs": []
    },
    {
      "cell_type": "code",
      "source": [
        "mean_visits = sum(visits) / len(visits)"
      ],
      "metadata": {
        "id": "rUgNWPm9U0eA"
      },
      "execution_count": 8,
      "outputs": []
    },
    {
      "cell_type": "code",
      "source": [
        "visits_purchases = [(visits[i] - mean_visits)*(sum_purchases[i] - mean_purchases) for i in range(len(visits))]\n",
        "cov_visits_purchases = sum(visits_purchases) / (len(visits) - 1)\n",
        "cov_visits_purchases"
      ],
      "metadata": {
        "colab": {
          "base_uri": "https://localhost:8080/"
        },
        "id": "VN4kx48RT9E9",
        "outputId": "4de45400-e4ad-457c-f416-8684e6691694"
      },
      "execution_count": 9,
      "outputs": [
        {
          "output_type": "execute_result",
          "data": {
            "text/plain": [
              "-990.1368421052633"
            ]
          },
          "metadata": {},
          "execution_count": 9
        }
      ]
    },
    {
      "cell_type": "code",
      "source": [
        "std_visits = (sum([(v - mean_visits)**2 for v in visits]) / (len(visits) - 1))\n",
        "std_visits = std_visits ** 0.5\n",
        "std_purchases = (sum([(p - mean_purchases)**2 for p in sum_purchases]) / (len(sum_purchases) - 1))\n",
        "std_purchases = std_purchases ** 0.5\n",
        "r = cov_visits_purchases / (std_visits * std_purchases)\n",
        "r"
      ],
      "metadata": {
        "colab": {
          "base_uri": "https://localhost:8080/"
        },
        "id": "JCBOfuzVV8et",
        "outputId": "e1e3c033-7880-47df-c15f-6537a5321c54"
      },
      "execution_count": 10,
      "outputs": [
        {
          "output_type": "execute_result",
          "data": {
            "text/plain": [
              "-0.3026584468766646"
            ]
          },
          "metadata": {},
          "execution_count": 10
        }
      ]
    },
    {
      "cell_type": "markdown",
      "source": [
        "## Через numpy"
      ],
      "metadata": {
        "id": "cloijjRsXxXp"
      }
    },
    {
      "cell_type": "code",
      "source": [
        "np.corrcoef(visits, sum_purchases)"
      ],
      "metadata": {
        "colab": {
          "base_uri": "https://localhost:8080/"
        },
        "id": "o42AL4qxXvK4",
        "outputId": "b2063e28-9aae-4f02-b07c-4fb86661b7d5"
      },
      "execution_count": null,
      "outputs": [
        {
          "output_type": "execute_result",
          "data": {
            "text/plain": [
              "array([[ 1.        , -0.30265845],\n",
              "       [-0.30265845,  1.        ]])"
            ]
          },
          "metadata": {},
          "execution_count": 67
        }
      ]
    },
    {
      "cell_type": "code",
      "source": [
        "import matplotlib.pyplot as plt\n",
        "\n",
        "plt.scatter(sum_purchases, visits)\n",
        "plt.title('Scatter Plot of Purchases vs. Visits')\n",
        "plt.xlabel('Sum of Purchases')\n",
        "plt.ylabel('Number of Visits');"
      ],
      "metadata": {
        "colab": {
          "base_uri": "https://localhost:8080/",
          "height": 472
        },
        "id": "gaeoGA-5Prr1",
        "outputId": "0d1f9090-51a4-42d2-db61-fd8fc6c98e15"
      },
      "execution_count": 18,
      "outputs": [
        {
          "output_type": "display_data",
          "data": {
            "text/plain": [
              "<Figure size 640x480 with 1 Axes>"
            ],
            "image/png": "[encoded data removed]"
          },
          "metadata": {}
        }
      ]
    },
    {
      "cell_type": "markdown",
      "source": [
        "### Заключення\n",
        "Можемо бачити, що лінійна кореляція відсутня. На це може впливати не лінійність даних, тобто викиди в даних."
      ],
      "metadata": {
        "id": "ZnDZsntYZemn"
      }
    },
    {
      "cell_type": "markdown",
      "source": [
        "**Завдання 7**. В попередньому завданні ми помітили, що викиди нам заважають отримати \"правдиве\" значення кореляції. Давайте вилучимо записи, які відповідають значенням з викидами в сумі покупок і обчисліть коеф. кореляції. Для цього поставте `threshold`, який дорінює середньому значенню + 2 стандартних відхилля суми покупок і всі значення, які більше за нього, будемо вважати викидами (є і інші правила для визначення викидів - з ним и познайомимось пізніше).\n",
        "\n",
        "Вилучіть значення з обох масивів і обчисліть коеф. кореляції Пірсона з допомогою `numpy` для кількості візитів і суми покупок без записів-викидів. Виведіть результат на екран, побудуйте діаграму розсіювання і проаналізуйте результат: що можемо сказати про залежність в даних?"
      ],
      "metadata": {
        "id": "4pEg0KzSQ6KA"
      }
    },
    {
      "cell_type": "code",
      "source": [
        "threshold = mean_purchases + 2 * std_purchases\n",
        "filtered_visits = [visits[i] for i in range(len(visits)) if sum_purchases[i] <= threshold]\n",
        "filtered_purchases = [sum_purchases[i] for i in range(len(sum_purchases)) if sum_purchases[i] <= threshold]"
      ],
      "metadata": {
        "id": "Yj3Yfaf7UBbc"
      },
      "execution_count": 15,
      "outputs": []
    },
    {
      "cell_type": "code",
      "source": [
        "np.corrcoef(filtered_visits, filtered_purchases)"
      ],
      "metadata": {
        "colab": {
          "base_uri": "https://localhost:8080/"
        },
        "id": "hlby6Bb2tTLE",
        "outputId": "973abb47-cc4f-4755-a71e-337fa02ceef3"
      },
      "execution_count": 16,
      "outputs": [
        {
          "output_type": "execute_result",
          "data": {
            "text/plain": [
              "array([[ 1.        , -0.36852121],\n",
              "       [-0.36852121,  1.        ]])"
            ]
          },
          "metadata": {},
          "execution_count": 16
        }
      ]
    },
    {
      "cell_type": "code",
      "source": [
        "plt.scatter(filtered_visits, filtered_purchases)\n",
        "plt.title(\"Графік розсіювання: Кількість відвідувань vs Сума покупок (без викидів)\")\n",
        "plt.xlabel(\"Кількість відвідувань\")\n",
        "plt.ylabel(\"Сума покупок\")\n",
        "plt.show()"
      ],
      "metadata": {
        "colab": {
          "base_uri": "https://localhost:8080/",
          "height": 472
        },
        "id": "WrfbinkNtzai",
        "outputId": "92c1a29e-65be-4bdd-b621-d7020a3bae6a"
      },
      "execution_count": 20,
      "outputs": [
        {
          "output_type": "display_data",
          "data": {
            "text/plain": [
              "<Figure size 640x480 with 1 Axes>"
            ],
            "image/png": "[encoded data removed]"
          },
          "metadata": {}
        }
      ]
    },
    {
      "cell_type": "markdown",
      "source": [
        "На графіку ми всеодно не бачимо ніякої лінійної скупченості, всі точки розкидані. Отже, ми можемо сказати, що кореляція близька до нуля і зв'язок між візитами та сумою покупки відсутній."
      ],
      "metadata": {
        "id": "wXmHuX13vwzj"
      }
    },
    {
      "cell_type": "code",
      "source": [],
      "metadata": {
        "id": "YotGcGePvP5d"
      },
      "execution_count": null,
      "outputs": []
    }
  ]
}